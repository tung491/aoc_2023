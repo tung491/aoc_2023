{
 "cells": [
  {
   "cell_type": "code",
   "execution_count": 2,
   "id": "512d63a5-bf53-4f83-8a8a-ef88974159b5",
   "metadata": {},
   "outputs": [],
   "source": [
    "with open('d1.txt') as f: lines = f.read().splitlines()"
   ]
  },
  {
   "cell_type": "code",
   "execution_count": 54,
   "id": "f8f85b8a-af1d-47cb-ba91-fc85d097dbba",
   "metadata": {},
   "outputs": [
    {
     "data": {
      "text/plain": [
       "54708"
      ]
     },
     "execution_count": 54,
     "metadata": {},
     "output_type": "execute_result"
    }
   ],
   "source": [
    "import re\n",
    "total_sum = 0\n",
    "for line in lines:\n",
    "    if digits := re.findall(r'\\d', line):\n",
    "        calibration_value = int(digits[0] + digits[-1])\n",
    "        total_sum += calibration_value\n",
    "total_sum"
   ]
  },
  {
   "cell_type": "code",
   "execution_count": 55,
   "id": "c4f9adc2-0884-4dba-bc95-4556768dda15",
   "metadata": {},
   "outputs": [
    {
     "data": {
      "text/plain": [
       "54087"
      ]
     },
     "execution_count": 55,
     "metadata": {},
     "output_type": "execute_result"
    }
   ],
   "source": [
    "res = 0\n",
    "\n",
    "map_number = { 'one':1, 'two':2, 'three':3, 'four':4, 'five':5, 'six':6, 'seven':7, 'eight':8, 'nine':9 }\n",
    "\n",
    "def to_int(d): \n",
    "    if d.isdigit(): \n",
    "        return int(d) \n",
    "    else:\n",
    "        return map_number[d]\n",
    "        \n",
    "pattern = r'(one|two|three|four|five|six|seven|eight|nine|[0-9])'\n",
    "for i,l in enumerate(lines):\n",
    "    x = re.search(pattern, l)\n",
    "    first_digit = to_int(l[x.start():x.end()])\n",
    "    n = len(l) \n",
    "    for i in reversed(range(x.start(), n)):\n",
    "        x = re.match(pattern, l[i:n])\n",
    "        if x: \n",
    "            last_digit = to_int(l[i:n][x.start():x.end()])\n",
    "            break\n",
    "    res += first_digit * 10 + last_digit\n",
    "\n",
    "res"
   ]
  },
  {
   "cell_type": "code",
   "execution_count": null,
   "id": "d2862b81-d629-4587-8757-84e2e857eecd",
   "metadata": {},
   "outputs": [],
   "source": []
  }
 ],
 "metadata": {
  "kernelspec": {
   "display_name": "Python 3 (ipykernel)",
   "language": "python",
   "name": "python3"
  },
  "language_info": {
   "codemirror_mode": {
    "name": "ipython",
    "version": 3
   },
   "file_extension": ".py",
   "mimetype": "text/x-python",
   "name": "python",
   "nbconvert_exporter": "python",
   "pygments_lexer": "ipython3",
   "version": "3.10.13"
  }
 },
 "nbformat": 4,
 "nbformat_minor": 5
}
